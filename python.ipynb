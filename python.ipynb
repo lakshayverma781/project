{
 "cells": [
  {
   "cell_type": "code",
   "execution_count": null,
   "metadata": {},
   "outputs": [],
   "source": [
    "import pandas as pd\n",
    "df=pd.Series([23,3445,35,35])\n",
    "print(df)"
   ]
  },
  {
   "cell_type": "code",
   "execution_count": null,
   "metadata": {},
   "outputs": [],
   "source": []
  },
  {
   "cell_type": "code",
   "execution_count": null,
   "metadata": {},
   "outputs": [],
   "source": [
    "import pandas as pd\n",
    "df=pd.read_excel(\"C:/Users/VMDRE316/Downloads/file_example_XLS_10.xls\")\n",
    "print(df)"
   ]
  },
  {
   "cell_type": "code",
   "execution_count": null,
   "metadata": {},
   "outputs": [],
   "source": [
    "df.to_csv(\"dec_2022.csv\")"
   ]
  },
  {
   "cell_type": "code",
   "execution_count": null,
   "metadata": {},
   "outputs": [],
   "source": [
    "pd.read_csv(r\"dec_2022.csv\")"
   ]
  },
  {
   "cell_type": "code",
   "execution_count": null,
   "metadata": {},
   "outputs": [],
   "source": [
    "import pandas as pd\n",
    "\n",
    "data = {\n",
    "  \"calories\": [420, 380, 390],\n",
    "  \"duration\": [50, 40, 45]\n",
    "}\n",
    "\n",
    "#load data into a DataFrame object:\n",
    "df = pd.DataFrame(data)\n",
    "\n",
    "print(df) "
   ]
  },
  {
   "cell_type": "code",
   "execution_count": null,
   "metadata": {},
   "outputs": [],
   "source": [
    "df.to_excel(\"sheet.xlsx\")\n",
    "print(df)"
   ]
  },
  {
   "cell_type": "code",
   "execution_count": null,
   "metadata": {},
   "outputs": [],
   "source": [
    "df.to_csv('sheet.csv')\n",
    "df"
   ]
  },
  {
   "cell_type": "code",
   "execution_count": null,
   "metadata": {},
   "outputs": [],
   "source": []
  },
  {
   "cell_type": "code",
   "execution_count": null,
   "metadata": {},
   "outputs": [],
   "source": [
    "df=pd.read_excel(\"C:/Users/VMDRE316/Downloads/file_example_XLS_50.xls\")\n",
    "print(df)"
   ]
  },
  {
   "cell_type": "code",
   "execution_count": null,
   "metadata": {},
   "outputs": [],
   "source": [
    "df.to_csv('file2.csv')\n",
    "print(df)"
   ]
  },
  {
   "cell_type": "code",
   "execution_count": null,
   "metadata": {},
   "outputs": [],
   "source": [
    "data = {\n",
    "  \"name\": [\"lakshay\", \"nitin\", \"sambit\"],\n",
    "  \"age\": [23, 28, 21]\n",
    "}\n",
    "\n",
    "name_age = pd.DataFrame(data)\n",
    "\n",
    "print(name_age) "
   ]
  },
  {
   "cell_type": "code",
   "execution_count": null,
   "metadata": {},
   "outputs": [],
   "source": [
    "name_age.to_excel('name_age.xlsx')\n",
    "name_age"
   ]
  },
  {
   "cell_type": "code",
   "execution_count": null,
   "metadata": {},
   "outputs": [],
   "source": [
    "name_age.to_csv('name_age.csv')\n",
    "name_age"
   ]
  },
  {
   "cell_type": "code",
   "execution_count": null,
   "metadata": {},
   "outputs": [],
   "source": [
    "data={\n",
    "  \"name\": [\"lakshay\", \"nitin\", \"sambit\"],\n",
    "  \"age\": [23, 28, 21],\n",
    "  \"state\":[\"Punjab\",\"uttar pradesh\",\"orrisha\"]\n",
    "}\n",
    "state=pd.DataFrame(data)\n",
    "state\n",
    "\n"
   ]
  },
  {
   "cell_type": "code",
   "execution_count": null,
   "metadata": {},
   "outputs": [],
   "source": [
    "state[state['age']==23]"
   ]
  },
  {
   "cell_type": "code",
   "execution_count": null,
   "metadata": {},
   "outputs": [],
   "source": [
    "state[['name','age']][state['age']>20]"
   ]
  },
  {
   "cell_type": "code",
   "execution_count": null,
   "metadata": {},
   "outputs": [],
   "source": [
    "state.to_excel(\"state.xlsx\")\n",
    "state"
   ]
  },
  {
   "cell_type": "code",
   "execution_count": null,
   "metadata": {},
   "outputs": [],
   "source": [
    "state.to_csv('state.csv')\n",
    "state"
   ]
  },
  {
   "cell_type": "code",
   "execution_count": null,
   "metadata": {},
   "outputs": [],
   "source": [
    "data={\n",
    "  \"p_id\": [100, 101, 102,103],\n",
    "  \"p_name\": [\"marker\", \"mouse\", \"white board\",\"SONY Vaio\"],\n",
    "  \"p_family\":[\"stationary\",\"computer\",\"stationary\",\"computer\"],\n",
    "  \"price\":[25,450,450,35000],\n",
    "  \"cost\":[22,350,375,42000],\n",
    "  \"launch_date\":[\"15-jan-08\",\"16-apr-09\",\"20-aug-10\",\"21-sep-10\"]\n",
    "}\n",
    "product=pd.DataFrame(data)\n",
    "product"
   ]
  },
  {
   "cell_type": "code",
   "execution_count": null,
   "metadata": {},
   "outputs": [],
   "source": [
    "data={\n",
    "  \"p_id\": [100, 101, 102,103],\n",
    "  \"p_name\": [\"marker\", \"mouse\", \"white board\",\"SONY Vaio\"],\n",
    "  \"p_family\":[\"stationary\",\"computer\",\"stationary\",\"computer\"],\n",
    "  \"price\":[25,450,450,35000],\n",
    "  \"cost\":[22,350,375,42000],\n",
    "  \"launch_date\":[\"15-jan-08\",\"16-apr-09\",\"20-aug-10\",\"21-sep-10\"]\n",
    "}\n",
    "product=pd.DataFrame(data)\n",
    "product"
   ]
  },
  {
   "cell_type": "code",
   "execution_count": null,
   "metadata": {},
   "outputs": [],
   "source": [
    "val2=product[['p_name','price']][(product['p_family']=='stationary')]\n",
    "val2.max()\n",
    "\n"
   ]
  },
  {
   "cell_type": "code",
   "execution_count": null,
   "metadata": {},
   "outputs": [],
   "source": [
    "data={\n",
    "  \"p_id\": [100, 101, 102,103],\n",
    "  \"p_name\": [\"marker\", \"mouse\", \"white board\",\"SONY Vaio\"],\n",
    "  \"p_family\":[\"stationary\",\"computer\",\"stationary\",\"computer\"],\n",
    "  \"price\":[25,450,450,35000],\n",
    "  \"cost\":[22,350,375,42000],\n",
    "  \"launch_date\":[\"15-jan-08\",\"16-apr-09\",\"20-aug-10\",\"21-sep-10\"]\n",
    "}\n",
    "product=pd.DataFrame(data)\n",
    "product"
   ]
  },
  {
   "cell_type": "code",
   "execution_count": null,
   "metadata": {},
   "outputs": [],
   "source": [
    "product[product['cost']>250]"
   ]
  },
  {
   "cell_type": "code",
   "execution_count": null,
   "metadata": {},
   "outputs": [],
   "source": [
    "product['profit']=product['price']-product['cost']\n",
    "product"
   ]
  },
  {
   "cell_type": "code",
   "execution_count": null,
   "metadata": {},
   "outputs": [],
   "source": [
    "product[['p_name','cost','price','profit']]"
   ]
  },
  {
   "cell_type": "code",
   "execution_count": null,
   "metadata": {},
   "outputs": [],
   "source": [
    "product[product['profit']>product['price'].loc[1]]"
   ]
  },
  {
   "cell_type": "code",
   "execution_count": null,
   "metadata": {},
   "outputs": [],
   "source": [
    "product[['p_name']][product['profit']>100]\n"
   ]
  },
  {
   "cell_type": "code",
   "execution_count": null,
   "metadata": {},
   "outputs": [],
   "source": [
    "product[['p_name']][(product['p_family']!='stationary') & (product['p_family']!='computer')]"
   ]
  },
  {
   "cell_type": "code",
   "execution_count": null,
   "metadata": {},
   "outputs": [],
   "source": [
    "product[['p_name']][product['profit']>product['profit'][product['p_id']==102][2]]"
   ]
  },
  {
   "cell_type": "code",
   "execution_count": null,
   "metadata": {},
   "outputs": [],
   "source": [
    "\n",
    "datatype=product.dtypes\n",
    "datatype"
   ]
  },
  {
   "cell_type": "code",
   "execution_count": null,
   "metadata": {},
   "outputs": [],
   "source": [
    "product['year']=pd.DatetimeIndex(product['launch_date']).year\n",
    "product"
   ]
  },
  {
   "cell_type": "code",
   "execution_count": null,
   "metadata": {},
   "outputs": [],
   "source": [
    "product[['p_name']][product['year']==2010]"
   ]
  },
  {
   "cell_type": "code",
   "execution_count": null,
   "metadata": {},
   "outputs": [],
   "source": [
    "product[['p_name']][product['price']==product['price'].max()]"
   ]
  },
  {
   "cell_type": "code",
   "execution_count": null,
   "metadata": {},
   "outputs": [],
   "source": [
    "product[['p_name','cost','price','profit']]"
   ]
  },
  {
   "cell_type": "code",
   "execution_count": null,
   "metadata": {},
   "outputs": [],
   "source": [
    "product['percentage_profit']=product['profit']/product['cost']*100\n",
    "product\n"
   ]
  },
  {
   "cell_type": "code",
   "execution_count": null,
   "metadata": {},
   "outputs": [],
   "source": [
    "product[['p_name','cost','price','profit','percentage_profit']]"
   ]
  },
  {
   "cell_type": "code",
   "execution_count": null,
   "metadata": {},
   "outputs": [],
   "source": [
    "df2=product.groupby(['p_name'])\n",
    "df2"
   ]
  },
  {
   "cell_type": "code",
   "execution_count": null,
   "metadata": {},
   "outputs": [],
   "source": [
    "product[['p_name']][(product['p_family']=='computer') & (product['price']==2000)  | (product['price']==50000)]"
   ]
  },
  {
   "cell_type": "code",
   "execution_count": null,
   "metadata": {},
   "outputs": [],
   "source": [
    "import pandas as pd\n",
    "city = pd.DataFrame({'city_id': [10, 20, 30], 'city_name': ['Bangalore', 'Chennai', 'Mumbai'],\n",
    "'city_population': [2367890, 6474836, 78393739]})\n",
    "city"
   ]
  },
  {
   "cell_type": "code",
   "execution_count": null,
   "metadata": {},
   "outputs": [],
   "source": [
    "branch = pd.DataFrame({'B_id': [500, 501, 502, 503, 504],\n",
    "                       'B_name': ['BTM Layout', 'Jayanagar', 'Ashok Nagar', 'Mount Road', 'JP Nagar'],\n",
    "                       'B_address': ['185, Ring road', '44, 15th main', 'Ashoka pillar', 'Nandanam', 'South end circle'],\n",
    "                       'B_phone': [9786543211, 9765420134, 8896044567, 9976540987, 8800997766],\n",
    "                       'city_id': [10, 10, 20, 20, 20]})\n",
    "branch"
   ]
  },
  {
   "cell_type": "code",
   "execution_count": null,
   "metadata": {},
   "outputs": [],
   "source": [
    "import pandas as pd\n",
    "merge=pd.merge(city,branch,on='city_id')\n",
    "merge['B_name'][merge['city_name']=='Chennai']\n",
    "merge\n"
   ]
  },
  {
   "cell_type": "code",
   "execution_count": null,
   "metadata": {},
   "outputs": [],
   "source": [
    "mer"
   ]
  },
  {
   "cell_type": "code",
   "execution_count": null,
   "metadata": {},
   "outputs": [],
   "source": [
    "mer=city.merge(branch,on='city_id',how='inner')\n",
    "mer"
   ]
  },
  {
   "cell_type": "code",
   "execution_count": null,
   "metadata": {},
   "outputs": [],
   "source": [
    "val=mer[['B_name']][mer['city_name']=='Chennai']\n",
    "val"
   ]
  },
  {
   "cell_type": "code",
   "execution_count": null,
   "metadata": {},
   "outputs": [],
   "source": [
    "\n",
    "# city[['city_name']][city['city_population'] > city['city_name'].loc[1]]\n",
    "# city\n",
    "# val2=city[['city_name']]\n",
    "# city['city_name'][\n",
    "# city['city_name'][city['city_population'] > city['city_name'][city['city_population']='Bangalore']]?\n",
    "city['city_name'][city['city_population'][city['city_name']=='Bangalore'].loc[0]]\n",
    "\n",
    "# val2"
   ]
  },
  {
   "cell_type": "code",
   "execution_count": null,
   "metadata": {},
   "outputs": [],
   "source": [
    "import calendar\n",
    "yy=2012\n",
    "mm=12\n",
    "calendar.month(yy,mm)"
   ]
  },
  {
   "cell_type": "code",
   "execution_count": null,
   "metadata": {},
   "outputs": [],
   "source": [
    "import pandas as pd\n",
    "import getpass\n",
    "import oracledb\n",
    "\n",
    "pw = getpass.getpass(\"Enter password: \")\n",
    "\n",
    "# con = cx_Oracle.connect('shashank/shashank@orcl-aws.c8sefhobaih4.ap-south-1.rds.amazonaws.com:1521/ORCL')\n",
    "\n",
    "conn = oracledb.connect(\n",
    "    user=\"dedec22_lakshay\",\n",
    "    password=\"dedec22_lakshay\",\n",
    "    dsn=\"orcl-aws.c8sefhobaih4.ap-south-1.rds.amazonaws.com:1521/ORCL\")\n",
    "\n",
    "print(\"Successfully connected to Oracle Database\")"
   ]
  },
  {
   "cell_type": "code",
   "execution_count": null,
   "metadata": {},
   "outputs": [],
   "source": [
    "query = 'select * from country'\n",
    "df=pd.read_sql(query,conn)\n",
    "print(df)"
   ]
  },
  {
   "cell_type": "code",
   "execution_count": null,
   "metadata": {},
   "outputs": [],
   "source": [
    "\n",
    "query1='select * from resort'\n",
    "resort=pd.read_sql(query1,conn)\n",
    "resort"
   ]
  },
  {
   "cell_type": "code",
   "execution_count": null,
   "metadata": {},
   "outputs": [],
   "source": [
    "query2='select * from customer'\n",
    "customer=pd.read_sql(query2,conn)\n",
    "customer"
   ]
  },
  {
   "cell_type": "code",
   "execution_count": null,
   "metadata": {},
   "outputs": [],
   "source": [
    "resort[['RESORT_NAME','COUNTRY_ID']]"
   ]
  },
  {
   "cell_type": "code",
   "execution_count": null,
   "metadata": {},
   "outputs": [],
   "source": [
    "# resort(['RESORT_NAME'].count())|(resort.groupby('COUNTRY_ID'))\n",
    "resort.query(['RESORT_NAME'].count() or resort.groupby('COUNTRY_ID'))\n"
   ]
  },
  {
   "cell_type": "code",
   "execution_count": null,
   "metadata": {},
   "outputs": [],
   "source": [
    "import pandas as pd\n",
    "dates=pd.date_range('2014-02-02','2014-02-05')\n",
    "dates"
   ]
  },
  {
   "cell_type": "code",
   "execution_count": null,
   "metadata": {},
   "outputs": [],
   "source": [
    "from pandas import Series\n",
    "temp1=Series(['lakshay','akshay','neetrom','rajeshwari'],index=dates)\n",
    "temp1"
   ]
  },
  {
   "cell_type": "code",
   "execution_count": null,
   "metadata": {},
   "outputs": [],
   "source": [
    "temp2=Series([12,12,13,18],index=temp1)\n",
    "temp2\n"
   ]
  },
  {
   "cell_type": "code",
   "execution_count": null,
   "metadata": {},
   "outputs": [],
   "source": [
    "temp2.mean()"
   ]
  },
  {
   "cell_type": "code",
   "execution_count": null,
   "metadata": {},
   "outputs": [],
   "source": [
    "temp2"
   ]
  },
  {
   "cell_type": "code",
   "execution_count": null,
   "metadata": {},
   "outputs": [],
   "source": [
    "temp3=Series([18,19,20,21],index=temp1)\n",
    "tempdiff= temp3 - temp2\n",
    "tempdiff\n"
   ]
  },
  {
   "cell_type": "code",
   "execution_count": null,
   "metadata": {},
   "outputs": [],
   "source": [
    "tempdiff['lakshay']"
   ]
  },
  {
   "cell_type": "code",
   "execution_count": null,
   "metadata": {},
   "outputs": [],
   "source": [
    "df1=pd.DataFrame({'age':temp2,\n",
    "                    'age2':temp3})\n",
    "df1"
   ]
  },
  {
   "cell_type": "code",
   "execution_count": null,
   "metadata": {},
   "outputs": [],
   "source": [
    "df1.age2"
   ]
  },
  {
   "cell_type": "code",
   "execution_count": null,
   "metadata": {},
   "outputs": [],
   "source": [
    "# arthmetic operation in dataframe\n",
    "df1.age2-df1.age"
   ]
  },
  {
   "cell_type": "code",
   "execution_count": null,
   "metadata": {},
   "outputs": [],
   "source": [
    "# add colum and assign diff value\n",
    "df1['difference']=tempdiff\n",
    "df1\n"
   ]
  },
  {
   "cell_type": "code",
   "execution_count": null,
   "metadata": {},
   "outputs": [],
   "source": [
    "from pandas import Series\n",
    "temp4=Series(['lakshay','akshay','neetrom','rajeshwari'])\n",
    "temp4"
   ]
  },
  {
   "cell_type": "code",
   "execution_count": null,
   "metadata": {},
   "outputs": [],
   "source": [
    "# create Bankid series \n",
    "bank_id=Series(['A1020','A1020','A1020','A1020','A1020','A1020','A1020','A1020','A1020','A1021','A1021','A1021','A1021','A1021','A1021','A1021','A1021'])\n",
    "bank_id\n",
    "\n"
   ]
  },
  {
   "cell_type": "code",
   "execution_count": null,
   "metadata": {},
   "outputs": [],
   "source": [
    "# create account_id series\n",
    "account_id=Series([' S39403030','S30495345',' S234234432','C34534543',' C34595044','C2304985345',' D934530945','D940404984','D02340494r','S3405935845','S950504840','S94040958','C34095345','C08548494','C88594048',' D9440021','D4954896'])\n",
    "account_id"
   ]
  },
  {
   "cell_type": "code",
   "execution_count": null,
   "metadata": {},
   "outputs": [],
   "source": [
    "bank_df=pd.DataFrame({'Bank_id':bank_id,\n",
    "                        'Account_id':account_id})\n",
    "bank_df"
   ]
  },
  {
   "cell_type": "code",
   "execution_count": null,
   "metadata": {},
   "outputs": [],
   "source": [
    "\n",
    "bank_df['length']=bank_df['Account_id'].apply(len)\n",
    "bank_df"
   ]
  },
  {
   "cell_type": "code",
   "execution_count": null,
   "metadata": {},
   "outputs": [],
   "source": [
    "bank_df\n",
    "bank_df.drop(['table_error'],axis=1)\n",
    "bank_df.drop(['chcek_length'],axis=1)\n",
    "bank_df"
   ]
  },
  {
   "cell_type": "code",
   "execution_count": null,
   "metadata": {},
   "outputs": [],
   "source": [
    "bank_df"
   ]
  },
  {
   "cell_type": "code",
   "execution_count": null,
   "metadata": {},
   "outputs": [],
   "source": [
    "table_error=pd.DataFrame({'check_length':bank_df['table_error']})\n",
    "table_error"
   ]
  },
  {
   "cell_type": "code",
   "execution_count": null,
   "metadata": {},
   "outputs": [],
   "source": [
    "bank_df.drop(['chcek_length'],axis=1)"
   ]
  },
  {
   "cell_type": "code",
   "execution_count": null,
   "metadata": {},
   "outputs": [],
   "source": [
    "\n",
    "bank_df2=bank_df.drop(['table_error','chcek_length'],axis=1)"
   ]
  },
  {
   "cell_type": "code",
   "execution_count": null,
   "metadata": {},
   "outputs": [],
   "source": [
    "bank_df['length']"
   ]
  },
  {
   "cell_type": "code",
   "execution_count": null,
   "metadata": {},
   "outputs": [],
   "source": [
    "import numpy as np\n",
    "conditions=[(bank_df['length']>13) & (bank_df['length']<7),\n",
    "(bank_df['length']>7) & (bank_df['length']<13)]\n",
    "value=['error',bank_df['Account_id']]\n",
    "bank_df2['length_check']=np.select(conditions,value)\n",
    "bank_df2"
   ]
  },
  {
   "cell_type": "code",
   "execution_count": null,
   "metadata": {},
   "outputs": [],
   "source": [
    "\n",
    "\n",
    "conditions=[~bank_df.Account_id.str.startswith('CSD'),\n",
    "~bank_df.Account_id.str.startswith('ABEFGHIGKLMNOPQRTUVWXWZ'),]\n",
    "value=[bank_df['Account_id'],'error']\n",
    "bank_df2['start_with']=np.select(conditions,value)\n",
    "bank_df2['start_with']\n",
    "\n"
   ]
  },
  {
   "cell_type": "code",
   "execution_count": null,
   "metadata": {},
   "outputs": [],
   "source": [
    "\n",
    "d=[]\n",
    "for i in bank_df[\"Account_id\"]:\n",
    "    d.append(i[1:])\n",
    "    \n",
    "bank_df['vali2']=d\n",
    "print(bank_df['vali2'])\n",
    " \n"
   ]
  },
  {
   "cell_type": "code",
   "execution_count": null,
   "metadata": {},
   "outputs": [],
   "source": [
    "\n",
    "conditions3=[bank_df.vali2.str.contains(pat = '[a-z]'),\n",
    "bank_df.vali2.str.contains('[1-9]')]\n",
    "value3=['error',bank_df['Account_id']]\n",
    "bank_df2['contains']=np.select(conditions3,value3)\n",
    "bank_df2['contains']\n"
   ]
  },
  {
   "cell_type": "code",
   "execution_count": null,
   "metadata": {},
   "outputs": [],
   "source": [
    "\n",
    "error_values=bank_df2[(bank_df2['contains'] ==\"error\")  |(bank_df2['start_with']==\"error\")|(bank_df2['length_check']==\"error\")]\n",
    "print(error_values[\"contains\"])\n"
   ]
  },
  {
   "cell_type": "code",
   "execution_count": null,
   "metadata": {},
   "outputs": [],
   "source": [
    "non_error_values=bank_df2[(bank_df2['contains'] !=\"error\") & (bank_df2['start_with'] !=\"error\") & (bank_df2['length_check'] !=\"error\")]\n",
    "print(non_error_values)"
   ]
  },
  {
   "cell_type": "code",
   "execution_count": null,
   "metadata": {},
   "outputs": [],
   "source": [
    "\n",
    "bank_df2['account_type']=bank_df2['Account_id'].astype(str).str[0]\n",
    "bank_df2['account_type']\n",
    "\n"
   ]
  },
  {
   "cell_type": "code",
   "execution_count": null,
   "metadata": {},
   "outputs": [],
   "source": [
    "bank_df2['account_number']=bank_df2['Account_id'].str[1:]\n",
    "bank_df2['account_number']"
   ]
  },
  {
   "cell_type": "code",
   "execution_count": null,
   "metadata": {},
   "outputs": [],
   "source": [
    "target_account=pd.DataFrame({\n",
    "                        \"bank_id\":bank_df2['Bank_id'],\n",
    "                        \"account_type\":bank_df2['account_type'],\n",
    "                        \"account_number\":bank_df2[\"account_number\"]\n",
    "\n",
    "})\n",
    "target_account"
   ]
  },
  {
   "cell_type": "code",
   "execution_count": 319,
   "metadata": {},
   "outputs": [
    {
     "data": {
      "text/html": [
       "<div>\n",
       "<style scoped>\n",
       "    .dataframe tbody tr th:only-of-type {\n",
       "        vertical-align: middle;\n",
       "    }\n",
       "\n",
       "    .dataframe tbody tr th {\n",
       "        vertical-align: top;\n",
       "    }\n",
       "\n",
       "    .dataframe thead th {\n",
       "        text-align: right;\n",
       "    }\n",
       "</style>\n",
       "<table border=\"1\" class=\"dataframe\">\n",
       "  <thead>\n",
       "    <tr style=\"text-align: right;\">\n",
       "      <th></th>\n",
       "      <th>Seq_no</th>\n",
       "      <th>record</th>\n",
       "      <th>error</th>\n",
       "    </tr>\n",
       "  </thead>\n",
       "  <tbody>\n",
       "    <tr>\n",
       "      <th>8</th>\n",
       "      <td>332</td>\n",
       "      <td>D02340494r</td>\n",
       "      <td>error</td>\n",
       "    </tr>\n",
       "  </tbody>\n",
       "</table>\n",
       "</div>"
      ],
      "text/plain": [
       "   Seq_no      record  error\n",
       "8     332  D02340494r  error"
      ]
     },
     "execution_count": 319,
     "metadata": {},
     "output_type": "execute_result"
    }
   ],
   "source": [
    "bank_error=pd.DataFrame({\n",
    "                    \"Seq_no\":range(332,332+len(error_values)),\n",
    "                    \"record\":error_values['Account_id'],\n",
    "                    \"error\":error_values['contains']\n",
    "})\n",
    "bank_error"
   ]
  },
  {
   "cell_type": "code",
   "execution_count": 321,
   "metadata": {},
   "outputs": [],
   "source": [
    "bank_error.to_csv('error_file.csv')"
   ]
  },
  {
   "cell_type": "code",
   "execution_count": null,
   "metadata": {},
   "outputs": [],
   "source": [
    "# duplicate not allowed compare 3 three table\n",
    "# reject data store into another df\n",
    "# nan remove\n",
    "import numpy as np\n",
    "# duplicate_df=np.where((loan_customer['cust_phone']==saving_cust['phone']))\n",
    "# duplicate_df\n",
    "# matching_data_from_three_table=pd.concat([loan_customer[['cust_f_nm','cust_dob']],saving_cust[['cust_nm','dob']],credit_customer[['NAME','DOB']]]).drop_duplicates()\n",
    "# matching_data_from_three_table\n",
    "# merfe_d=pd.merge(pd.merge(loan_cust,saving_cust,on='phone'),credit_cust,on='phone')\n",
    "# merfe_d\n",
    "# saving_customer.reset_index(drop=False)\n",
    "# saving_customer\n",
    "\n",
    "# # Loan_cust= loan_cust.reset_index(drop=False)\n",
    "# # Loan_cust\n",
    "# # Credit=credit_cust.reset_index(drop=False)\n",
    "# # Credit\n",
    "\n",
    "# # Credit_cust=Credit.rename(columns={'NAME':'','ID_'})\n",
    "# # Credit_cust['cust_id']=Credit_cust['cust_id'].replace(15,105)\n",
    "# # Credit_cust.loc[2,'cust_id']=103\n",
    "Credit_c=Credit_cust.rename(columns={'phone':'PHONE'})\n",
    "# Credit_cust\n",
    "# Loan_cust\n",
    "# saving_cus=saving_customer.rename(columns={'phone':'cust_phone'})\n",
    "# saving_cus\n",
    "# saving_c\n",
    "# Loan_c=Loan_cust.drop('cust_nm',axis=1)\n",
    "# Loan_cus=Loan_c.rename(columns={'crt_dt':'credit_date'})\n",
    "# # # Loan_cus\n",
    "# save_cc=saving_customer.rename(columns={'':'customer_city'})\n",
    "\n",
    "# save_cc\n",
    "\n",
    "\n",
    "# dfs = [Loan_cus, save_cc, Credit_c]\n",
    "# dfs = [df.set_index('cust_id') for df in dfs]\n",
    "# merge_ta=dfs[0].join(dfs[2],on='cust_id',how='outer',lsuffix='_left', rsuffix='_right')\n",
    "# merge_ta"
   ]
  },
  {
   "cell_type": "code",
   "execution_count": 2,
   "metadata": {},
   "outputs": [
    {
     "ename": "ImportError",
     "evalue": "cannot import name constants",
     "output_type": "error",
     "traceback": [
      "\u001b[1;31m---------------------------------------------------------------------------\u001b[0m",
      "\u001b[1;31mImportError\u001b[0m                               Traceback (most recent call last)",
      "Cell \u001b[1;32mIn[2], line 3\u001b[0m\n\u001b[0;32m      1\u001b[0m \u001b[39mimport\u001b[39;00m \u001b[39mpandas\u001b[39;00m \u001b[39mas\u001b[39;00m \u001b[39mpd\u001b[39;00m\n\u001b[0;32m      2\u001b[0m \u001b[39mimport\u001b[39;00m \u001b[39mgetpass\u001b[39;00m\n\u001b[1;32m----> 3\u001b[0m \u001b[39mimport\u001b[39;00m \u001b[39moracledb\u001b[39;00m\n\u001b[0;32m      6\u001b[0m pw \u001b[39m=\u001b[39m getpass\u001b[39m.\u001b[39mgetpass(\u001b[39m\"\u001b[39m\u001b[39mEnter password: \u001b[39m\u001b[39m\"\u001b[39m)\n\u001b[0;32m      8\u001b[0m \u001b[39m# con = cx_Oracle.connect('shashank/shashank@orcl-aws.c8sefhobaih4.ap-south-1.rds.amazonaws.com:1521/ORCL')\u001b[39;00m\n",
      "File \u001b[1;32m~\\AppData\\Local\\Packages\\PythonSoftwareFoundation.Python.3.10_qbz5n2kfra8p0\\LocalCache\\local-packages\\Python310\\site-packages\\oracledb\\__init__.py:38\u001b[0m\n\u001b[0;32m     36\u001b[0m \u001b[39mfrom\u001b[39;00m \u001b[39m.\u001b[39;00m\u001b[39merrors\u001b[39;00m \u001b[39mimport\u001b[39;00m _Error\n\u001b[0;32m     37\u001b[0m \u001b[39mfrom\u001b[39;00m \u001b[39m.\u001b[39;00m\u001b[39mdefaults\u001b[39;00m \u001b[39mimport\u001b[39;00m defaults\n\u001b[1;32m---> 38\u001b[0m \u001b[39mfrom\u001b[39;00m \u001b[39m.\u001b[39;00m\u001b[39mconnection\u001b[39;00m \u001b[39mimport\u001b[39;00m connect, Connection\n\u001b[0;32m     39\u001b[0m \u001b[39mfrom\u001b[39;00m \u001b[39m.\u001b[39;00m\u001b[39mcursor\u001b[39;00m \u001b[39mimport\u001b[39;00m Cursor\n\u001b[0;32m     40\u001b[0m \u001b[39mfrom\u001b[39;00m \u001b[39m.\u001b[39;00m\u001b[39mpool\u001b[39;00m \u001b[39mimport\u001b[39;00m create_pool, ConnectionPool\n",
      "File \u001b[1;32m~\\AppData\\Local\\Packages\\PythonSoftwareFoundation.Python.3.10_qbz5n2kfra8p0\\LocalCache\\local-packages\\Python310\\site-packages\\oracledb\\connection.py:45\u001b[0m\n\u001b[0;32m     43\u001b[0m \u001b[39mfrom\u001b[39;00m \u001b[39mtyping\u001b[39;00m \u001b[39mimport\u001b[39;00m Any, Callable, Type, Union\n\u001b[0;32m     44\u001b[0m \u001b[39mfrom\u001b[39;00m \u001b[39m.\u001b[39;00m \u001b[39mimport\u001b[39;00m constants, driver_mode, errors, exceptions, utils\n\u001b[1;32m---> 45\u001b[0m \u001b[39mfrom\u001b[39;00m \u001b[39m.\u001b[39;00m \u001b[39mimport\u001b[39;00m base_impl, thick_impl, thin_impl\n\u001b[0;32m     46\u001b[0m \u001b[39mfrom\u001b[39;00m \u001b[39m.\u001b[39;00m \u001b[39mimport\u001b[39;00m pool \u001b[39mas\u001b[39;00m pool_module\n\u001b[0;32m     47\u001b[0m \u001b[39mfrom\u001b[39;00m \u001b[39m.\u001b[39;00m\u001b[39mdefaults\u001b[39;00m \u001b[39mimport\u001b[39;00m defaults\n",
      "File \u001b[1;32msrc\\oracledb\\thin_impl.pyx:73\u001b[0m, in \u001b[0;36minit oracledb.thin_impl\u001b[1;34m()\u001b[0m\n",
      "\u001b[1;31mImportError\u001b[0m: cannot import name constants"
     ]
    }
   ],
   "source": [
    "import pandas as pd\n",
    "import getpass\n",
    "import oracledb\n",
    "\n",
    "\n",
    "pw = getpass.getpass(\"Enter password: \")\n",
    "\n",
    "# con = cx_Oracle.connect('shashank/shashank@orcl-aws.c8sefhobaih4.ap-south-1.rds.amazonaws.com:1521/ORCL')\n",
    "\n",
    "conn = oracledb.connect(\n",
    "    user=\"dedec22_lakshay\",\n",
    "    password=\"dedec22_lakshay\",\n",
    "    dsn=\"orcl-aws.c8sefhobaih4.ap-south-1.rds.amazonaws.com:1521/ORCL\")\n",
    "   \n",
    "\n",
    "print(\"Successfully connected to Oracle Database\")"
   ]
  }
 ],
 "metadata": {
  "kernelspec": {
   "display_name": "Python 3",
   "language": "python",
   "name": "python3"
  },
  "language_info": {
   "codemirror_mode": {
    "name": "ipython",
    "version": 3
   },
   "file_extension": ".py",
   "mimetype": "text/x-python",
   "name": "python",
   "nbconvert_exporter": "python",
   "pygments_lexer": "ipython3",
   "version": "3.10.9 (tags/v3.10.9:1dd9be6, Dec  6 2022, 20:01:21) [MSC v.1934 64 bit (AMD64)]"
  },
  "orig_nbformat": 4,
  "vscode": {
   "interpreter": {
    "hash": "40e72e53a33cab034233a10f41dbcd33b0fc4d4e95592a01b4010ba016482491"
   }
  }
 },
 "nbformat": 4,
 "nbformat_minor": 2
}
